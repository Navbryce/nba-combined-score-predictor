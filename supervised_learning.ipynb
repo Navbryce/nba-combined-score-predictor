{
 "cells": [
  {
   "cell_type": "markdown",
   "metadata": {},
   "source": [
    "# Read datasets"
   ]
  },
  {
   "cell_type": "code",
   "execution_count": 310,
   "metadata": {
    "scrolled": true
   },
   "outputs": [
    {
     "name": "stdout",
     "output_type": "stream",
     "text": [
      "(2564, 10)\n",
      "(1107, 10)\n"
     ]
    }
   ],
   "source": [
    "import pandas as pd\n",
    "import csv\n",
    "from sklearn.metrics import mean_squared_error\n",
    "\n",
    "def read_csv_and_get_inputs_and_labels(path, label_column=\"ttl_pts\"):\n",
    "    df = pd.read_csv(path)\n",
    "    input = df.loc[:, df.columns != label_column]\n",
    "    labels = df[[label_column]]\n",
    "    return input, labels.to_numpy()[:, 0]\n",
    "version=\"1.0\"\n",
    "dataset_folder = \"output-datasets\"\n",
    "results_path = f\"output-models/results_{version}.csv\"\n",
    "dataset_name = \"2017_2018_2019_pca\"\n",
    "dataset_path = f\"{dataset_folder}/{dataset_name}\"\n",
    "model_results = {}\n",
    "\n",
    "train = read_csv_and_get_inputs_and_labels(f\"{dataset_path}-train.csv\")\n",
    "test = read_csv_and_get_inputs_and_labels(f\"{dataset_path}-test.csv\")\n",
    "print(train[0].shape)\n",
    "print(test[0].shape)"
   ]
  },
  {
   "cell_type": "code",
   "execution_count": 311,
   "metadata": {},
   "outputs": [],
   "source": [
    "def test_model(model, train, test):\n",
    "    train_inputs, train_labels = train\n",
    "    test_inputs, test_labels = test\n",
    "    model.fit(train_inputs, train_labels)\n",
    "    train_score = model.score(train_inputs, train_labels)\n",
    "    train_msqe = mean_squared_error(train_labels, model.predict(train_inputs))\n",
    "    test_score = model.score(test_inputs, test_labels)\n",
    "    test_msqe = mean_squared_error(test_labels, model.predict(test_inputs))\n",
    "\n",
    "    return (train_score, train_msqe**.5), (test_score, test_msqe**.5)"
   ]
  },
  {
   "cell_type": "markdown",
   "metadata": {},
   "source": [
    "# Random Forest Regression\n",
    "1.0 is best"
   ]
  },
  {
   "cell_type": "code",
   "execution_count": 312,
   "metadata": {},
   "outputs": [
    {
     "name": "stdout",
     "output_type": "stream",
     "text": [
      "Random Forest Regression: ((0.8891863515413915, 6.565420615232065), (0.27189215576302805, 18.05239369104588))\n"
     ]
    }
   ],
   "source": [
    "from sklearn.ensemble import RandomForestRegressor\n",
    "\n",
    "random_forest_model = RandomForestRegressor()\n",
    "random_forest_results = test_model(random_forest_model, train, test)\n",
    "print(f\"Random Forest Regression: {random_forest_results}\")\n",
    "model_results['random_forest'] = random_forest_results"
   ]
  },
  {
   "cell_type": "markdown",
   "metadata": {},
   "source": [
    "# Ridge Regression"
   ]
  },
  {
   "cell_type": "code",
   "execution_count": 313,
   "metadata": {},
   "outputs": [
    {
     "name": "stdout",
     "output_type": "stream",
     "text": [
      "Ridge: ((0.25598826226395066, 17.01201751199845), (0.2950875051225834, 17.762518592950308))\n"
     ]
    }
   ],
   "source": [
    "from sklearn.linear_model import Ridge\n",
    "\n",
    "ridge_model = Ridge(alpha=1)\n",
    "ridge_results = test_model(ridge_model, train, test)\n",
    "print(f\"Ridge: {ridge_results}\")\n",
    "model_results['ridge'] = ridge_results"
   ]
  },
  {
   "cell_type": "markdown",
   "metadata": {},
   "source": [
    "# Neural Network"
   ]
  },
  {
   "cell_type": "code",
   "execution_count": 314,
   "metadata": {},
   "outputs": [
    {
     "name": "stdout",
     "output_type": "stream",
     "text": [
      "Neural Network Regression: ((0.3503263470333371, 15.896940723541293), (0.22528027047129517, 18.621267943341866))\n"
     ]
    }
   ],
   "source": [
    "from sklearn.neural_network import MLPRegressor\n",
    "\n",
    "neural_model = MLPRegressor(max_iter=2500, hidden_layer_sizes=(50, 50, 50, 50, 10))\n",
    "neural_results = test_model(neural_model, train, test)\n",
    "print(f\"Neural Network Regression: {neural_results}\")\n",
    "model_results['neural_network'] = neural_results"
   ]
  },
  {
   "cell_type": "markdown",
   "metadata": {},
   "source": [
    "# Results"
   ]
  },
  {
   "cell_type": "code",
   "execution_count": 315,
   "metadata": {},
   "outputs": [],
   "source": [
    "new_formatted_results = {}\n",
    "## Format new results\n",
    "for model_name, result in model_results.items():\n",
    "    new_formatted_results[model_name] = [*result[0], *result[1]]\n",
    "## Read in existing results\n",
    "existing_results = {}\n",
    "try:\n",
    "    with open(results_path, 'r', newline='') as file:\n",
    "        headers = None\n",
    "        for row in csv.reader(file, delimiter=','):\n",
    "            if headers is None:\n",
    "                headers = row\n",
    "                continue\n",
    "            prev_dataset_name = row[0]\n",
    "            model_name = row[1]\n",
    "\n",
    "            if prev_dataset_name not in existing_results:\n",
    "                existing_results[prev_dataset_name] = {}\n",
    "            existing_results[prev_dataset_name][model_name] = row[2:]\n",
    "except FileNotFoundError:\n",
    "    pass\n",
    "formatted_results = dict(existing_results, **{dataset_name: new_formatted_results})\n",
    "with open(results_path, 'w+', newline='') as file: \n",
    "    if headers is None:\n",
    "        headers = ['dataset', 'model', 'train_r_2', 'train_rmse', 'test_r_2', 'test_rmse']\n",
    "    \n",
    "    output = [headers]\n",
    "    # write results\n",
    "    for dataset_name, formatted_model_results in formatted_results.items():\n",
    "        for model_name, model_result in formatted_model_results.items():\n",
    "            if len(headers) - 2 != len(model_result):\n",
    "                raise ValueError(f'Length of headers does not match: {model_result}')\n",
    "            output.append([dataset_name, model_name, *model_result])\n",
    "    file.truncate(0)\n",
    "    writer = csv.writer(file, delimiter=',')\n",
    "    writer.writerows(output)\n",
    "    \n",
    "        \n",
    "    "
   ]
  },
  {
   "cell_type": "code",
   "execution_count": null,
   "metadata": {},
   "outputs": [],
   "source": []
  },
  {
   "cell_type": "code",
   "execution_count": null,
   "metadata": {},
   "outputs": [],
   "source": []
  }
 ],
 "metadata": {
  "kernelspec": {
   "display_name": "Python 3",
   "language": "python",
   "name": "python3"
  },
  "language_info": {
   "codemirror_mode": {
    "name": "ipython",
    "version": 3
   },
   "file_extension": ".py",
   "mimetype": "text/x-python",
   "name": "python",
   "nbconvert_exporter": "python",
   "pygments_lexer": "ipython3",
   "version": "3.8.5"
  }
 },
 "nbformat": 4,
 "nbformat_minor": 4
}
