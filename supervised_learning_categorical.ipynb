{
 "cells": [
  {
   "cell_type": "code",
   "execution_count": 5,
   "metadata": {},
   "outputs": [
    {
     "name": "stdout",
     "output_type": "stream",
     "text": [
      "(16755, 19)\n",
      "(7247, 19)\n"
     ]
    }
   ],
   "source": [
    "import pandas as pd\n",
    "from SupervisedLearningUtils import *\n",
    "\n",
    "version=\"1.0\"\n",
    "dataset_folder = \"output-datasets\"\n",
    "dataset_name = \"all_seasons_merged_mult_feature-selected\"\n",
    "dataset_path = f\"{dataset_folder}/{dataset_name}\"\n",
    "results_path = f\"output-models/predictions_{dataset_name}_{version}.csv\"\n",
    "\n",
    "curr_points_width = 10\n",
    "train = read_csv_and_get_inputs_and_labels_classification(f\"{dataset_path}-train.csv\", points_width=curr_points_width)\n",
    "test = read_csv_and_get_inputs_and_labels_classification(f\"{dataset_path}-test.csv\", points_width=curr_points_width)\n",
    "\n",
    "print(train[0].shape)\n",
    "print(test[0].shape)\n",
    "\n",
    "predictions = {'truth': test[1]}"
   ]
  },
  {
   "cell_type": "code",
   "execution_count": 6,
   "metadata": {},
   "outputs": [],
   "source": [
    "def execute_model_and_save_results(model, label, train, test):\n",
    "    train_results, test_results, test_predictions = test_model_classification(model, train, test)\n",
    "    print(f\"{label} Model Results: {train_results, test_results}\")\n",
    "    predictions[label] = test_predictions\n"
   ]
  },
  {
   "cell_type": "code",
   "execution_count": null,
   "metadata": {},
   "outputs": [],
   "source": []
  },
  {
   "cell_type": "markdown",
   "metadata": {},
   "source": [
    "# SVM"
   ]
  },
  {
   "cell_type": "code",
   "execution_count": 7,
   "metadata": {},
   "outputs": [
    {
     "name": "stdout",
     "output_type": "stream",
     "text": [
      "SVC Model Results: (0.26893464637421666, 0.2334759210707879)\n"
     ]
    }
   ],
   "source": [
    "from sklearn.svm import SVC\n",
    "\n",
    "svc_model = SVC()\n",
    "execute_model_and_save_results(svc_model, 'SVC', train, test)"
   ]
  },
  {
   "cell_type": "markdown",
   "metadata": {},
   "source": [
    "# Decision Tree"
   ]
  },
  {
   "cell_type": "code",
   "execution_count": 8,
   "metadata": {},
   "outputs": [
    {
     "name": "stdout",
     "output_type": "stream",
     "text": [
      "decision_tree Model Results: (0.997851387645479, 0.16668966468883675)\n"
     ]
    }
   ],
   "source": [
    "from sklearn.tree import DecisionTreeClassifier\n",
    "\n",
    "decision_tree = DecisionTreeClassifier()\n",
    "execute_model_and_save_results(decision_tree, 'decision_tree', train, test)"
   ]
  },
  {
   "cell_type": "markdown",
   "metadata": {},
   "source": [
    "# Random Forest"
   ]
  },
  {
   "cell_type": "code",
   "execution_count": 9,
   "metadata": {},
   "outputs": [
    {
     "name": "stdout",
     "output_type": "stream",
     "text": [
      "random_forest Model Results: (0.997851387645479, 0.2137436180488478)\n"
     ]
    }
   ],
   "source": [
    "from sklearn.ensemble import RandomForestClassifier\n",
    "\n",
    "ideal_params = {'n_estimators': 30, 'min_samples_split': 15, 'max_features': 'sqrt', 'min_samples_leaf': 2, 'max_depth': None}\n",
    "\n",
    "random_forest = RandomForestClassifier()\n",
    "execute_model_and_save_results(random_forest, 'random_forest', train, test)"
   ]
  },
  {
   "cell_type": "markdown",
   "metadata": {},
   "source": [
    "# Gradient Boosting Classifier"
   ]
  },
  {
   "cell_type": "code",
   "execution_count": 10,
   "metadata": {},
   "outputs": [
    {
     "name": "stdout",
     "output_type": "stream",
     "text": [
      "gardient_boost_classifier Model Results: (0.43097582811101165, 0.22850834828204775)\n"
     ]
    }
   ],
   "source": [
    "from sklearn.ensemble import GradientBoostingClassifier\n",
    "\n",
    "gardient_boost_classifier = GradientBoostingClassifier()\n",
    "execute_model_and_save_results(gardient_boost_classifier, 'gardient_boost_classifier', train, test)"
   ]
  },
  {
   "cell_type": "markdown",
   "metadata": {},
   "source": [
    "# Ada Boost Classifier"
   ]
  },
  {
   "cell_type": "code",
   "execution_count": 11,
   "metadata": {},
   "outputs": [
    {
     "name": "stdout",
     "output_type": "stream",
     "text": [
      "ada_boost_classifier Model Results: (0.18108027454491196, 0.17151924934455637)\n"
     ]
    }
   ],
   "source": [
    "from sklearn.ensemble import AdaBoostClassifier\n",
    "\n",
    "ada_boost_classifier = AdaBoostClassifier()\n",
    "execute_model_and_save_results(ada_boost_classifier, 'ada_boost_classifier', train, test)"
   ]
  },
  {
   "cell_type": "markdown",
   "metadata": {},
   "source": [
    "# Neural Network"
   ]
  },
  {
   "cell_type": "code",
   "execution_count": 12,
   "metadata": {},
   "outputs": [
    {
     "name": "stdout",
     "output_type": "stream",
     "text": [
      "neural_network Model Results: (0.4739480752014324, 0.1878018490409825)\n"
     ]
    }
   ],
   "source": [
    "from sklearn.neural_network import MLPClassifier\n",
    "\n",
    "neural_model = MLPClassifier(max_iter=2500, hidden_layer_sizes=(50, 50, 50, 50, 10))\n",
    "execute_model_and_save_results(neural_model, 'neural_network', train, test)"
   ]
  },
  {
   "cell_type": "markdown",
   "metadata": {},
   "source": [
    "# Output Results"
   ]
  },
  {
   "cell_type": "code",
   "execution_count": 13,
   "metadata": {},
   "outputs": [],
   "source": [
    "pd.DataFrame.from_dict(predictions).to_csv(results_path)"
   ]
  },
  {
   "cell_type": "markdown",
   "metadata": {},
   "source": []
  }
 ],
 "metadata": {
  "kernelspec": {
   "display_name": "Python 3",
   "language": "python",
   "name": "python3"
  },
  "language_info": {
   "codemirror_mode": {
    "name": "ipython",
    "version": 3
   },
   "file_extension": ".py",
   "mimetype": "text/x-python",
   "name": "python",
   "nbconvert_exporter": "python",
   "pygments_lexer": "ipython3",
   "version": "3.8.3"
  }
 },
 "nbformat": 4,
 "nbformat_minor": 4
}
