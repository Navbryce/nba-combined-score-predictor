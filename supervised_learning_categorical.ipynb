{
 "cells": [
  {
   "cell_type": "code",
   "execution_count": 14,
   "metadata": {},
   "outputs": [
    {
     "name": "stdout",
     "output_type": "stream",
     "text": [
      "(16755, 19)\n",
      "(7247, 19)\n"
     ]
    }
   ],
   "source": [
    "import pandas as pd\n",
    "from SupervisedLearningUtils import *\n",
    "\n",
    "version=\"1.0\"\n",
    "dataset_folder = \"output-datasets\"\n",
    "dataset_name = \"all_seasons_merged_mult_feature-selected\"\n",
    "dataset_path = f\"{dataset_folder}/{dataset_name}\"\n",
    "results_path = f\"output-models/predictions_{dataset_name}_{version}.csv\"\n",
    "\n",
    "\n",
    "train = read_csv_and_get_inputs_and_labels(f\"{dataset_path}-train.csv\")\n",
    "test = read_csv_and_get_inputs_and_labels(f\"{dataset_path}-test.csv\")\n",
    "\n",
    "print(train[0].shape)\n",
    "print(test[0].shape)\n",
    "\n",
    "predictions = {'truth': test[1]}"
   ]
  },
  {
   "cell_type": "code",
   "execution_count": 15,
   "metadata": {},
   "outputs": [],
   "source": [
    "def execute_model_and_save_results(model, label, train, test):\n",
    "    train_results, test_results, test_predictions = test_model(model, train, test)\n",
    "    print(f\"{label} Model Results: {train_results, test_results}\")\n",
    "    predictions[label] = test_predictions"
   ]
  },
  {
   "cell_type": "markdown",
   "metadata": {},
   "source": [
    "# Train Ridge Regression Model"
   ]
  },
  {
   "cell_type": "code",
   "execution_count": 16,
   "metadata": {},
   "outputs": [
    {
     "name": "stdout",
     "output_type": "stream",
     "text": [
      "ridge_regression Model Results: ((0.3806240534812315, 16.240599038021973), (0.3897327310573063, 16.922738908715058))\n"
     ]
    }
   ],
   "source": [
    "from sklearn.linear_model import Ridge\n",
    "\n",
    "ridge_model = Ridge(alpha=1)\n",
    "execute_model_and_save_results(ridge_model, 'ridge_regression', train, test)\n"
   ]
  },
  {
   "cell_type": "markdown",
   "metadata": {},
   "source": [
    "# Output Results"
   ]
  },
  {
   "cell_type": "code",
   "execution_count": 17,
   "metadata": {},
   "outputs": [],
   "source": [
    "pd.DataFrame.from_dict(predictions).to_csv(results_path)"
   ]
  },
  {
   "cell_type": "code",
   "execution_count": null,
   "metadata": {},
   "outputs": [],
   "source": []
  }
 ],
 "metadata": {
  "kernelspec": {
   "display_name": "Python 3",
   "language": "python",
   "name": "python3"
  },
  "language_info": {
   "codemirror_mode": {
    "name": "ipython",
    "version": 3
   },
   "file_extension": ".py",
   "mimetype": "text/x-python",
   "name": "python",
   "nbconvert_exporter": "python",
   "pygments_lexer": "ipython3",
   "version": "3.8.5"
  }
 },
 "nbformat": 4,
 "nbformat_minor": 4
}
