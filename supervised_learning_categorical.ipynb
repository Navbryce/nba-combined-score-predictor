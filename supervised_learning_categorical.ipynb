{
 "cells": [
  {
   "cell_type": "code",
   "execution_count": 1,
   "metadata": {
    "colab": {
     "base_uri": "https://localhost:8080/",
     "height": 368
    },
    "id": "nyOLX9wdlFnS",
    "outputId": "66bf4d33-c6fd-4677-e016-133bcc41d908"
   },
   "outputs": [
    {
     "name": "stdout",
     "output_type": "stream",
     "text": [
      "(16755, 19)\n",
      "(7247, 19)\n",
      "(16755, 19)\n",
      "(7247, 19)\n"
     ]
    }
   ],
   "source": [
    "import pandas as pd\n",
    "from SupervisedLearningUtils import *\n",
    "\n",
    "version=\"1.0\"\n",
    "dataset_folder = \"output-datasets\"\n",
    "dataset_name = \"all_seasons_merged_mult_feature-selected\"\n",
    "dataset_path = f\"{dataset_folder}/{dataset_name}\"\n",
    "results_path = f\"output-models/predictions_{dataset_name}_{version}.csv\"\n",
    "\n",
    "curr_points_width = 10\n",
    "train = read_csv_and_get_inputs_and_labels_classification(f\"{dataset_path}-train.csv\", points_width=curr_points_width)\n",
    "test = read_csv_and_get_inputs_and_labels_classification(f\"{dataset_path}-test.csv\", points_width=curr_points_width)\n",
    "\n",
    "train_binary = read_csv_and_get_inputs_and_labels_bin_classification(f\"{dataset_path}-train.csv\", mean=224, width=5)\n",
    "test_binary = read_csv_and_get_inputs_and_labels_bin_classification(f\"{dataset_path}-test.csv\", mean=224, width=5)\n",
    "\n",
    "print(train[0].shape)\n",
    "print(test[0].shape)\n",
    "\n",
    "print(train_binary[0].shape)\n",
    "print(test_binary[0].shape)\n",
    "\n",
    "predictions = {'truth': test[1]}"
   ]
  },
  {
   "cell_type": "code",
   "execution_count": null,
   "metadata": {
    "id": "5BKpybhMlGnS"
   },
   "outputs": [],
   "source": []
  },
  {
   "cell_type": "code",
   "execution_count": 2,
   "metadata": {
    "id": "3QUVexyzlFnS"
   },
   "outputs": [],
   "source": [
    "def execute_model_and_save_results(model, label, train, test):\n",
    "    train_results, test_results, test_predictions = test_model_classification(model, train, test)\n",
    "    print(f\"{label} Model Results: {train_results, test_results}\")\n",
    "    predictions[label] = test_predictions\n"
   ]
  },
  {
   "cell_type": "code",
   "execution_count": null,
   "metadata": {
    "id": "Q1BtE89-lFnS"
   },
   "outputs": [],
   "source": []
  },
  {
   "cell_type": "markdown",
   "metadata": {
    "id": "if96Qb_PlFnS"
   },
   "source": [
    "# SVM"
   ]
  },
  {
   "cell_type": "code",
   "execution_count": 3,
   "metadata": {
    "id": "aYjR1_1ilFnS",
    "outputId": "b1e69191-fe64-4bca-e633-06a55dd9b37f"
   },
   "outputs": [
    {
     "name": "stdout",
     "output_type": "stream",
     "text": [
      "SVC Model Results: (0.26893464637421666, 0.2334759210707879)\n"
     ]
    }
   ],
   "source": [
    "from sklearn.svm import SVC\n",
    "\n",
    "svc_model = SVC()\n",
    "execute_model_and_save_results(svc_model, 'SVC', train, test)"
   ]
  },
  {
   "cell_type": "code",
   "execution_count": 4,
   "metadata": {
    "id": "hqM42UcPljpy"
   },
   "outputs": [
    {
     "name": "stdout",
     "output_type": "stream",
     "text": [
      "SVC_binary Model Results: (0.8353327364965681, 0.8385538843659446)\n"
     ]
    }
   ],
   "source": [
    "from sklearn.svm import SVC\n",
    "\n",
    "svc_binary_model = SVC(kernel='sigmoid')\n",
    "execute_model_and_save_results(svc_binary_model, 'SVC_binary', train_binary, test_binary)"
   ]
  },
  {
   "cell_type": "markdown",
   "metadata": {
    "id": "1E4Nj-CJlFnS"
   },
   "source": [
    "# Decision Tree"
   ]
  },
  {
   "cell_type": "code",
   "execution_count": 5,
   "metadata": {
    "id": "fOMVdyu8lFnS",
    "outputId": "181f487a-25a4-4c13-b417-4c32ac675f13"
   },
   "outputs": [
    {
     "name": "stdout",
     "output_type": "stream",
     "text": [
      "decision_tree Model Results: (0.997851387645479, 0.16917345108320683)\n"
     ]
    }
   ],
   "source": [
    "from sklearn.tree import DecisionTreeClassifier\n",
    "\n",
    "decision_tree = DecisionTreeClassifier()\n",
    "execute_model_and_save_results(decision_tree, 'decision_tree', train, test)"
   ]
  },
  {
   "cell_type": "code",
   "execution_count": 6,
   "metadata": {
    "colab": {
     "base_uri": "https://localhost:8080/",
     "height": 198
    },
    "id": "Rmb4eumruqlv",
    "outputId": "2e249e00-5583-426b-de69-3f810f8ab64e"
   },
   "outputs": [
    {
     "name": "stdout",
     "output_type": "stream",
     "text": [
      "decision_tree_binary Model Results: (0.9995822142643986, 0.8265489167931558)\n"
     ]
    }
   ],
   "source": [
    "from sklearn.tree import DecisionTreeClassifier\n",
    "\n",
    "decision_tree_binary = DecisionTreeClassifier()\n",
    "execute_model_and_save_results(decision_tree_binary, 'decision_tree_binary', train_binary, test_binary)"
   ]
  },
  {
   "cell_type": "markdown",
   "metadata": {
    "id": "XxrdQKLSlFnS"
   },
   "source": [
    "# Random Forest"
   ]
  },
  {
   "cell_type": "code",
   "execution_count": 7,
   "metadata": {
    "id": "KrpkWB5XlFnS",
    "outputId": "2810d982-6b1e-4414-8ea4-a0363817e039"
   },
   "outputs": [
    {
     "name": "stdout",
     "output_type": "stream",
     "text": [
      "random_forest Model Results: (0.997851387645479, 0.21677935697530012)\n"
     ]
    }
   ],
   "source": [
    "from sklearn.ensemble import RandomForestClassifier\n",
    "\n",
    "ideal_params = {'n_estimators': 30, 'min_samples_split': 15, 'max_features': 'sqrt', 'min_samples_leaf': 2, 'max_depth': None}\n",
    "\n",
    "random_forest = RandomForestClassifier()\n",
    "execute_model_and_save_results(random_forest, 'random_forest', train, test)"
   ]
  },
  {
   "cell_type": "code",
   "execution_count": 8,
   "metadata": {
    "id": "qWd8mSC3vaHH"
   },
   "outputs": [
    {
     "name": "stdout",
     "output_type": "stream",
     "text": [
      "random_forest_binary Model Results: (0.9995225305878842, 0.9046502000827928)\n"
     ]
    }
   ],
   "source": [
    "from sklearn.ensemble import RandomForestClassifier\n",
    "\n",
    "ideal_params = {'n_estimators': 30, 'min_samples_split': 15, 'max_features': 'sqrt', 'min_samples_leaf': 2, 'max_depth': None}\n",
    "\n",
    "random_forest_binary = RandomForestClassifier()\n",
    "execute_model_and_save_results(random_forest_binary, 'random_forest_binary', train_binary, test_binary)"
   ]
  },
  {
   "cell_type": "markdown",
   "metadata": {
    "id": "EuPYPG8-lFnT"
   },
   "source": [
    "# Gradient Boosting Classifier"
   ]
  },
  {
   "cell_type": "code",
   "execution_count": 9,
   "metadata": {
    "id": "W-uo16eklFnT",
    "outputId": "cb997b48-cd82-42ac-e2c7-33f293aaa78b"
   },
   "outputs": [
    {
     "name": "stdout",
     "output_type": "stream",
     "text": [
      "gardient_boost_classifier Model Results: (0.43097582811101165, 0.22823237201600663)\n"
     ]
    }
   ],
   "source": [
    "from sklearn.ensemble import GradientBoostingClassifier\n",
    "\n",
    "gardient_boost_classifier = GradientBoostingClassifier()\n",
    "execute_model_and_save_results(gardient_boost_classifier, 'gardient_boost_classifier', train, test)"
   ]
  },
  {
   "cell_type": "code",
   "execution_count": 10,
   "metadata": {
    "id": "lhyXM0oavro8"
   },
   "outputs": [
    {
     "name": "stdout",
     "output_type": "stream",
     "text": [
      "gardient_boost_classifier_binary Model Results: (0.902775290957923, 0.9082378915413274)\n"
     ]
    }
   ],
   "source": [
    "from sklearn.ensemble import GradientBoostingClassifier\n",
    "\n",
    "gardient_boost_classifier_binary = GradientBoostingClassifier()\n",
    "execute_model_and_save_results(gardient_boost_classifier_binary, 'gardient_boost_classifier_binary', train_binary, test_binary)"
   ]
  },
  {
   "cell_type": "markdown",
   "metadata": {
    "id": "6hKshnoxlFnT"
   },
   "source": [
    "# Ada Boost Classifier"
   ]
  },
  {
   "cell_type": "code",
   "execution_count": 11,
   "metadata": {
    "id": "c1i4CSXAlFnT",
    "outputId": "88a569aa-014b-4345-f1d4-7ce12453025b"
   },
   "outputs": [
    {
     "name": "stdout",
     "output_type": "stream",
     "text": [
      "ada_boost_classifier Model Results: (0.18108027454491196, 0.17151924934455637)\n"
     ]
    }
   ],
   "source": [
    "from sklearn.ensemble import AdaBoostClassifier\n",
    "\n",
    "ada_boost_classifier = AdaBoostClassifier()\n",
    "execute_model_and_save_results(ada_boost_classifier, 'ada_boost_classifier', train, test)"
   ]
  },
  {
   "cell_type": "code",
   "execution_count": 12,
   "metadata": {
    "id": "xPpQk7p9yCk5"
   },
   "outputs": [
    {
     "name": "stdout",
     "output_type": "stream",
     "text": [
      "ada_boost_classifier_binary Model Results: (0.8997314234556849, 0.9080999034083069)\n"
     ]
    }
   ],
   "source": [
    "from sklearn.ensemble import AdaBoostClassifier\n",
    "\n",
    "ada_boost_classifier_binary = AdaBoostClassifier()\n",
    "execute_model_and_save_results(ada_boost_classifier_binary, 'ada_boost_classifier_binary', train_binary, test_binary)"
   ]
  },
  {
   "cell_type": "markdown",
   "metadata": {
    "id": "E1WTUESElFnT"
   },
   "source": [
    "# Neural Network"
   ]
  },
  {
   "cell_type": "code",
   "execution_count": 13,
   "metadata": {
    "id": "FNO6pUJClFnT",
    "outputId": "a140f0ac-05a1-494c-c0af-7371f852d097"
   },
   "outputs": [
    {
     "name": "stdout",
     "output_type": "stream",
     "text": [
      "neural_network Model Results: (0.4657714115189496, 0.19414930315992823)\n"
     ]
    }
   ],
   "source": [
    "from sklearn.neural_network import MLPClassifier\n",
    "\n",
    "neural_model = MLPClassifier(max_iter=2500, hidden_layer_sizes=(50, 50, 50, 50, 10))\n",
    "execute_model_and_save_results(neural_model, 'neural_network', train, test)"
   ]
  },
  {
   "cell_type": "code",
   "execution_count": 14,
   "metadata": {
    "id": "rRw9BHueyYUR"
   },
   "outputs": [
    {
     "name": "stdout",
     "output_type": "stream",
     "text": [
      "neural_network_binary Model Results: (0.9668755595344674, 0.8373119911687595)\n"
     ]
    }
   ],
   "source": [
    "from sklearn.neural_network import MLPClassifier\n",
    "\n",
    "neural_model_binary = MLPClassifier(max_iter=2500, hidden_layer_sizes=(50, 50, 50, 50, 10))\n",
    "execute_model_and_save_results(neural_model_binary, 'neural_network_binary', train_binary, test_binary)"
   ]
  },
  {
   "cell_type": "markdown",
   "metadata": {
    "id": "p0YmJx71lFnT"
   },
   "source": [
    "# Output Results"
   ]
  },
  {
   "cell_type": "code",
   "execution_count": 15,
   "metadata": {
    "id": "CFTLgVJrlFnT"
   },
   "outputs": [],
   "source": [
    "pd.DataFrame.from_dict(predictions).to_csv(results_path)"
   ]
  },
  {
   "cell_type": "markdown",
   "metadata": {
    "id": "r6VAf9B_lFnT"
   },
   "source": []
  }
 ],
 "metadata": {
  "colab": {
   "collapsed_sections": [],
   "name": "supervised_learning_categorical.ipynb",
   "provenance": []
  },
  "kernelspec": {
   "display_name": "Python 3",
   "language": "python",
   "name": "python3"
  },
  "language_info": {
   "codemirror_mode": {
    "name": "ipython",
    "version": 3
   },
   "file_extension": ".py",
   "mimetype": "text/x-python",
   "name": "python",
   "nbconvert_exporter": "python",
   "pygments_lexer": "ipython3",
   "version": "3.8.3"
  }
 },
 "nbformat": 4,
 "nbformat_minor": 1
}
